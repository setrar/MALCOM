{
 "cells": [
  {
   "cell_type": "code",
   "execution_count": 3,
   "id": "690f7308-6e4c-4543-9d3e-416bb7456523",
   "metadata": {},
   "outputs": [
    {
     "data": {
      "text/plain": [
       "0.03125"
      ]
     },
     "execution_count": 3,
     "metadata": {},
     "output_type": "execute_result"
    }
   ],
   "source": [
    "𝙋ₓ=1/32 # types "
   ]
  },
  {
   "cell_type": "code",
   "execution_count": 6,
   "id": "4c24bb39-57fc-4fab-a509-910d08bad85a",
   "metadata": {},
   "outputs": [
    {
     "data": {
      "text/plain": [
       "1"
      ]
     },
     "execution_count": 6,
     "metadata": {},
     "output_type": "execute_result"
    }
   ],
   "source": [
    "𝙋"
   ]
  },
  {
   "cell_type": "code",
   "execution_count": 4,
   "id": "180ac127-103a-4fef-94c2-9fe52378cc84",
   "metadata": {},
   "outputs": [
    {
     "data": {
      "text/plain": [
       "-5.0"
      ]
     },
     "execution_count": 4,
     "metadata": {},
     "output_type": "execute_result"
    }
   ],
   "source": [
    "log2(𝙋ₓ)"
   ]
  },
  {
   "cell_type": "markdown",
   "id": "5ad26448-1ed8-45f5-aa8a-72001a1694f4",
   "metadata": {},
   "source": [
    "Entropy, in the context of information theory, quantifies the amount of uncertainty or randomness in a dataset or signal. It's a fundamental concept introduced by Claude Shannon and is used to measure the information content. The formula for entropy, denoted as $H$, for a discrete random variable $X$ with possible values $\\{x_1, x_2, ..., x_n\\}$ and probability mass function $P(X)$ is given by:\n",
    "\n",
    "$$H(X) = -\\sum_{i=1}^{n} P(x_i) \\log_b P(x_i)$$\n",
    "\n",
    "Where:\n",
    "- $P(x_i)$ is the probability of occurrence of the $i$-th value of the random variable $X$.\n",
    "- The summation is over all possible values of $X$.\n",
    "- $\\log_b$ denotes the logarithm to the base $b$. Commonly, $b$ is set to 2 (binary logarithm), and in this case, entropy is measured in bits. If $b$ is set to $e$ (natural logarithm), entropy is measured in nats.\n",
    "\n",
    "### Interpretation\n",
    "- **Higher Entropy**: Indicates more unpredictability or randomness in the distribution of $X$. A uniform distribution, where all outcomes are equally likely, maximizes entropy.\n",
    "- **Lower Entropy**: Indicates less uncertainty or a more predictable distribution. If a random variable can only take one value (i.e., it's a constant), its entropy is 0, indicating no uncertainty.\n",
    "\n",
    "### Examples\n",
    "1. **Fair Coin Toss**: For a fair coin with two equally likely outcomes (head or tail), the entropy is $H(X) = -\\frac{1}{2}\\log_2\\frac{1}{2} - \\frac{1}{2}\\log_2\\frac{1}{2} = 1$ bit. This reflects the maximum uncertainty in the outcome of a coin toss.\n",
    "2. **Biased Coin Toss**: For a biased coin where the probability of heads ($P(H)$) is 0.8 and tails ($P(T)$) is 0.2, the entropy is lower, reflecting the reduced uncertainty due to the bias. $H(X) = -(0.8\\log_2{0.8} + 0.2\\log_2{0.2}) \\approx 0.72$ bits.\n",
    "\n",
    "Entropy is a foundational concept in information theory, underlying many other concepts and measures, including mutual information, conditional entropy, and cross-entropy. It has broad applications across fields such as data compression, cryptography, communication theory, and machine learning."
   ]
  },
  {
   "cell_type": "markdown",
   "id": "f5a8d686-2eb3-4ca3-beed-f552061d1ab5",
   "metadata": {},
   "source": [
    "### what is y = h + v?"
   ]
  },
  {
   "cell_type": "markdown",
   "id": "5efce328-6601-43f0-9b97-7df0b9d45a56",
   "metadata": {},
   "source": [
    "The equation \\(y = h + v\\) appears frequently in various scientific and engineering contexts, including communication theory, signal processing, and statistics. While the specific meaning of each symbol can vary depending on the context, a common interpretation, especially in communication systems, is as follows:\n",
    "\n",
    "- \\(y\\): Represents the received signal.\n",
    "- \\(h\\): Represents the effect of the channel through which the signal is transmitted. This can include factors like attenuation, distortion, and phase shifts introduced by the transmission medium.\n",
    "- \\(v\\): Represents noise added to the signal during transmission. This noise can arise from various sources, including electronic noise in the receiver, interference from other signals, and environmental noise.\n",
    "\n",
    "### In the Context of Communication Theory\n",
    "\n",
    "In communication theory, this equation is a simplified model of what happens when a signal is transmitted from one point to another through a physical medium or channel. The goal is often to transmit a signal \\(h\\) (which could represent voice, video, data, etc.) over a channel to a receiver. However, during this process, the signal can be corrupted by noise \\(v\\), resulting in the receiver getting a slightly (or significantly) different signal \\(y\\).\n",
    "\n",
    "### The Goal of Channel Estimation and Signal Processing\n",
    "\n",
    "Given this scenario, one of the key challenges in communication systems is to estimate the channel effects (\\(h\\)) and the noise (\\(v\\)) so that the original signal can be recovered as accurately as possible from the received signal (\\(y\\)). This involves techniques such as:\n",
    "\n",
    "- **Channel Estimation**: Trying to determine \\(h\\) from the received signal. Knowing \\(h\\), one can attempt to \"reverse\" the effects of the channel on the received signal to recover the original signal.\n",
    "- **Noise Reduction or Filtering**: Attempting to separate \\(v\\) from \\(y\\) to reduce the impact of noise on the received signal, improving the clarity or quality of the recovered signal.\n",
    "\n",
    "### Applications\n",
    "\n",
    "This simple model, or its more complex variants, is foundational in designing and understanding communication systems, including telephony, wireless communication (like cellular networks, Wi-Fi), satellite communication, and any other system where signals are transmitted over a distance.\n",
    "\n",
    "In more complex scenarios or when dealing with specific types of signals and noise, this model might be expanded or adapted. For instance, in multipath environments where signals take multiple paths to reach the receiver, \\(h\\) might be represented as a convolution operation rather than a simple additive effect, and \\(v\\) might have a more complex statistical distribution that needs to be considered."
   ]
  },
  {
   "cell_type": "code",
   "execution_count": null,
   "id": "e37460a8-f6d9-4759-87f8-a0258aaa5c27",
   "metadata": {},
   "outputs": [],
   "source": []
  }
 ],
 "metadata": {
  "kernelspec": {
   "display_name": "Julia 1.9.3",
   "language": "julia",
   "name": "julia-1.9"
  },
  "language_info": {
   "file_extension": ".jl",
   "mimetype": "application/julia",
   "name": "julia",
   "version": "1.10.2"
  }
 },
 "nbformat": 4,
 "nbformat_minor": 5
}
