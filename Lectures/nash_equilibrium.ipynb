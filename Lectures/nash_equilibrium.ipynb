{
 "cells": [
  {
   "cell_type": "markdown",
   "id": "84c5732b-bb58-428a-a2b1-1bba18420f16",
   "metadata": {},
   "source": [
    "### Nash Equilibrium"
   ]
  },
  {
   "cell_type": "markdown",
   "id": "03ad6619-f840-47f3-9742-bb92f26f79e4",
   "metadata": {},
   "source": [
    "A Nash equilibrium, named after mathematician John Nash, is a concept within game theory where no player can gain by unilaterally changing their strategy if the strategies of the other players remain unchanged. In other words, it is a situation in which each player's strategy is optimal given the strategies of all other players in the game. A Nash equilibrium represents a state of balance or a steady state of the strategies of all players, where each player has chosen their best possible strategy, considering the choices of others.\n",
    "\n",
    "### Formal Definition\n",
    "\n",
    "Consider a game with \\(N\\) players, where each player \\(i\\) has a set of possible strategies \\(S_i\\). Let \\(s_i\\) be a strategy chosen by player \\(i\\), and let \\(s_{-i}\\) denote a strategy profile of all players except for player \\(i\\). Then, a strategy profile \\(s^* = (s_1^*, s_2^*, \\ldots, s_N^*)\\) is a Nash equilibrium if for every player \\(i\\), the following condition holds:\n",
    "\n",
    "\\[u_i(s_i^*, s_{-i}^*) \\geq u_i(s_i, s_{-i}^*)\\]\n",
    "\n",
    "for all \\(s_i \\in S_i\\), where \\(u_i\\) is the payoff or utility function of player \\(i\\), indicating the player's satisfaction or gain from any particular outcome.\n",
    "\n",
    "### Examples\n",
    "\n",
    "1. **Prisoner's Dilemma**: In this classic game, two prisoners are given the choice to either betray the other or remain silent. The Nash equilibrium occurs when both betray each other, even though mutual cooperation would have led to a better collective outcome.\n",
    "   \n",
    "2. **Cournot Competition**: In this model of oligopoly, firms choose the quantity of output to produce independently. The Nash equilibrium is reached when no firm can increase its profit by unilaterally changing its own production quantity, given the quantities produced by other firms.\n",
    "\n",
    "3. **Matching Pennies**: This is a zero-sum game where two players simultaneously place a penny on the table. The objective of one player is to match the other player's penny (both heads or both tails), while the other player wins if the pennies do not match. The Nash equilibrium in this game is a mixed strategy where each player randomly chooses heads or tails with equal probability.\n",
    "\n",
    "### Importance\n",
    "\n",
    "The concept of Nash equilibrium is crucial in economics, political science, sociology, and many other fields where strategic interactions among rational decision-makers are studied. It provides a way to predict the outcome of strategic situations where individuals make decisions independently. Nash equilibria can be pure (where players choose strategies with certainty) or mixed (where players randomize across strategies with specific probabilities). Nash's existence theorem states that every finite game has at least one Nash equilibrium, possibly in mixed strategies."
   ]
  },
  {
   "cell_type": "code",
   "execution_count": 3,
   "id": "272899bf-5570-4d78-901c-0c70ccf4a9df",
   "metadata": {},
   "outputs": [
    {
     "data": {
      "text/plain": [
       "-1.3862943611198906"
      ]
     },
     "execution_count": 3,
     "metadata": {},
     "output_type": "execute_result"
    }
   ],
   "source": [
    "- log(4)"
   ]
  },
  {
   "cell_type": "code",
   "execution_count": null,
   "id": "fd5bafc8-9dd4-411d-bf30-d8429ddfc350",
   "metadata": {},
   "outputs": [],
   "source": []
  }
 ],
 "metadata": {
  "kernelspec": {
   "display_name": "Julia 1.9.3",
   "language": "julia",
   "name": "julia-1.9"
  },
  "language_info": {
   "file_extension": ".jl",
   "mimetype": "application/julia",
   "name": "julia",
   "version": "1.10.2"
  }
 },
 "nbformat": 4,
 "nbformat_minor": 5
}
