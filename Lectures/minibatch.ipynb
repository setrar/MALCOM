{
 "cells": [
  {
   "cell_type": "markdown",
   "id": "1228cc59-7aa0-4430-aa84-0f8f090b18f1",
   "metadata": {},
   "source": [
    "Creating minibatches for training machine learning models is an essential technique, particularly when dealing with large datasets. Minibatching allows you to approximate the gradient of the entire dataset using only a subset of data for each iteration of your optimization algorithm, such as stochastic gradient descent (SGD).\n",
    "\n",
    "Here is a basic example of how you might implement minibatching in Julia. This example involves manually splitting a dataset into minibatches and can be adapted depending on the specific requirements of your project or framework.\n",
    "\n",
    "### Example: Creating Minibatches in Julia\n",
    "\n",
    "Let's assume we have a simple dataset composed of feature vectors and labels. Here's how you can create minibatches from this dataset:"
   ]
  },
  {
   "cell_type": "code",
   "execution_count": 1,
   "id": "158822bf-b3c2-45ea-a565-aacd70873f04",
   "metadata": {},
   "outputs": [],
   "source": [
    "using Random"
   ]
  },
  {
   "cell_type": "code",
   "execution_count": 2,
   "id": "4ba3d416-b3b7-401b-a647-d171c85e812c",
   "metadata": {},
   "outputs": [
    {
     "name": "stdout",
     "output_type": "stream",
     "text": [
      "Minibatch 1: features size = (20, 10), labels size = 20\n",
      "Minibatch 2: features size = (20, 10), labels size = 20\n",
      "Minibatch 3: features size = (20, 10), labels size = 20\n",
      "Minibatch 4: features size = (20, 10), labels size = 20\n",
      "Minibatch 5: features size = (20, 10), labels size = 20\n"
     ]
    }
   ],
   "source": [
    "# Define a dataset\n",
    "features = rand(100, 10)  # 100 samples, 10 features each\n",
    "labels = rand(100)        # 100 labels\n",
    "\n",
    "# Parameters\n",
    "batch_size = 20\n",
    "num_samples = size(features, 1)\n",
    "\n",
    "# Function to generate minibatches\n",
    "function generate_minibatches(features, labels, batch_size)\n",
    "    num_samples = size(features, 1)\n",
    "    indices = shuffle(1:num_samples)  # Shuffle indices to randomize the minibatch creation\n",
    "    minibatches = []\n",
    "\n",
    "    for i in 1:batch_size:num_samples\n",
    "        j = min(i + batch_size - 1, num_samples)\n",
    "        push!(minibatches, (features[indices[i:j], :], labels[indices[i:j]]))\n",
    "    end\n",
    "    return minibatches\n",
    "end\n",
    "\n",
    "# Generate minibatches\n",
    "minibatches = generate_minibatches(features, labels, batch_size)\n",
    "\n",
    "# Example usage: Printing the sizes of each minibatch to verify\n",
    "for (i, minibatch) in enumerate(minibatches)\n",
    "    println(\"Minibatch $i: features size = \", size(minibatch[1]), \", labels size = \", length(minibatch[2]))\n",
    "end"
   ]
  },
  {
   "cell_type": "markdown",
   "id": "e7b4193f-b9da-440c-a701-ae623c474d29",
   "metadata": {},
   "source": [
    "### Code Explanation:\n",
    "1. **Dataset Setup**: The `features` matrix and `labels` vector represent a dataset with 100 samples, each with 10 features, and a label.\n",
    "2. **Batch Size**: We set a `batch_size` of 20, meaning each minibatch will contain 20 samples, except possibly the last one if the total number of samples isn't perfectly divisible by the batch size.\n",
    "3. **Shuffling**: The indices of the samples are shuffled to ensure that each minibatch is randomly sampled without bias.\n",
    "4. **Minibatch Creation**: The `generate_minibatches` function loops through the shuffled indices, slicing the `features` and `labels` arrays to create minibatches. Each minibatch is a tuple containing a subset of features and the corresponding labels.\n",
    "5. **Usage Example**: The last part of the code prints the size of each minibatch's features and labels to verify that minibatches are correctly formed.\n",
    "\n",
    "This simple implementation demonstrates how to manually create minibatches in Julia. You can adjust the code for different types of data or integrate it into a larger machine learning workflow where minibatches are used for training models using gradient-based optimization methods."
   ]
  }
 ],
 "metadata": {
  "kernelspec": {
   "display_name": "Julia 1.9.3",
   "language": "julia",
   "name": "julia-1.9"
  },
  "language_info": {
   "file_extension": ".jl",
   "mimetype": "application/julia",
   "name": "julia",
   "version": "1.10.2"
  }
 },
 "nbformat": 4,
 "nbformat_minor": 5
}
