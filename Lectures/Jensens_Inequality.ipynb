{
 "cells": [
  {
   "cell_type": "markdown",
   "id": "371863b5-9659-49c7-9c43-0ba7f524513c",
   "metadata": {},
   "source": [
    "If you're interested in exploring or applying concepts like Jensen's inequality within the Julia programming language, Julia provides a dynamic and flexible environment to do so, particularly for numerical and statistical computations. Below, I'll guide you through how you might experiment with Jensen's inequality using Julia.\n",
    "\n",
    "### Example: Experimenting with Jensen's Inequality in Julia\n",
    "\n",
    "Let's take a simple convex function, $f(x) = x^2$, and verify Jensen's inequality for a random set of points following a specific distribution, say a normal distribution with mean 0 and standard deviation 1.\n",
    "\n",
    "**Objective**: Verify $f(\\mathbb{E}[X]) \\leq \\mathbb{E}[f(X)]$ for $f(x) = x^2$ and $X$ being a random variable from $N(0,1)$.\n",
    "\n",
    "#### Step 1: Install Necessary Packages (if required)\n",
    "\n",
    "First, ensure you have all necessary packages. For basic numerical operations and plotting, you might not need anything beyond the standard library, but for more complex distributions or operations, `Distributions` might be helpful.\n",
    "\n"
   ]
  },
  {
   "cell_type": "markdown",
   "id": "a09937a4-a171-4a42-a5fe-fc6ff54c9581",
   "metadata": {},
   "source": [
    "```julia\n",
    "using Pkg\n",
    "Pkg.add(\"Distributions\")\n",
    "```"
   ]
  },
  {
   "cell_type": "code",
   "execution_count": 1,
   "id": "45479b6d-bc23-4f75-ae8c-1d98208fa8c6",
   "metadata": {},
   "outputs": [
    {
     "name": "stdout",
     "output_type": "stream",
     "text": [
      "f(E[X]) = 6.335507730660925e-5\n",
      "E[f(X)] = 1.0061853927365882\n",
      "Jensen's Inequality holds: f(E[X]) <= E[f(X)]\n"
     ]
    }
   ],
   "source": [
    "#### Step 2: Write Julia Code\n",
    "\n",
    "using Distributions\n",
    "\n",
    "# Define the convex function f(x) = x^2\n",
    "f = x -> x^2\n",
    "\n",
    "# Generate random samples from N(0, 1)\n",
    "n = 10000 # Number of samples\n",
    "𝑁 = Normal(0, 1) # Define the distribution\n",
    "X = rand(𝑁, n) # Generate samples\n",
    "\n",
    "# Compute f(E[X]) and E[f(X)]\n",
    "fₑₓ = f(mean(X))\n",
    "Eᵩₓ = mean(f.(X)) # The dot (.) applies f element-wise\n",
    "\n",
    "\n",
    "\n",
    "# Display the results\n",
    "println(\"f(E[X]) = $fₑₓ\")\n",
    "println(\"E[f(X)] = $Eᵩₓ\")\n",
    "\n",
    "# Verify Jensen's Inequality\n",
    "if fₑₓ <= Eᵩₓ\n",
    "    println(\"Jensen's Inequality holds: f(E[X]) <= E[f(X)]\")\n",
    "else\n",
    "    println(\"Jensen's Inequality does not hold, which is unexpected for this convex function.\")\n",
    "end\n"
   ]
  },
  {
   "cell_type": "markdown",
   "id": "0de3c4e5-6ac2-436b-83a1-7e25755d3b39",
   "metadata": {},
   "source": [
    "#### Explanation\n",
    "\n",
    "1. **Function `f(x)`**: This represents our convex function, $x^2$.\n",
    "\n",
    "2. **Sampling**: We generate 10,000 samples from a normal distribution centered at 0 with a standard deviation of 1. This serves as our random variable \\(X\\).\n",
    "\n",
    "3. **Computing**: We calculate $f(\\mathbb{E}[X])$ and $\\mathbb{E}[f(X)]$, where $\\mathbb{E}[X]$ is the mean of the samples and $\\mathbb{E}[f(X)]$ is the mean of the squared samples.\n",
    "\n",
    "4. **Verification**: Finally, we check if $f(\\mathbb{E}[X]) \\leq \\mathbb{E}[f(X)]$, as stated by Jensen's inequality for convex functions.\n",
    "\n",
    "This Julia code provides a practical example of verifying Jensen's inequality using numerical simulation. By changing the function `f` or the distribution of `X`, you can explore how Jensen's inequality applies across different scenarios and functions."
   ]
  },
  {
   "cell_type": "code",
   "execution_count": null,
   "id": "84f130ea-0af6-455d-bfe3-b9fbe05996a8",
   "metadata": {},
   "outputs": [],
   "source": []
  }
 ],
 "metadata": {
  "kernelspec": {
   "display_name": "Julia 1.9.3",
   "language": "julia",
   "name": "julia-1.9"
  },
  "language_info": {
   "file_extension": ".jl",
   "mimetype": "application/julia",
   "name": "julia",
   "version": "1.10.2"
  }
 },
 "nbformat": 4,
 "nbformat_minor": 5
}
