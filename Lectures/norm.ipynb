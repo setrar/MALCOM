{
 "cells": [
  {
   "cell_type": "markdown",
   "id": "35f0f499-971d-4310-b8a2-e16e639cd02a",
   "metadata": {},
   "source": [
    "The term \"norm 2\" typically refers to the **Euclidean norm**, which is also known as the **L2 norm**. It is one of the most commonly used types of vector norms in mathematics, particularly in fields such as linear algebra, machine learning, and statistics.\n",
    "\n",
    "### Definition of the L2 Norm\n",
    "The L2 norm of a vector $ \\mathbf{x} \\in \\mathbb{R}^n $ is defined as the square root of the sum of the squares of its components. Mathematically, it is expressed as:\n",
    "\n",
    "$\n",
    "\\|\\mathbf{x}\\|_2 = \\sqrt{x_1^2 + x_2^2 + \\ldots + x_n^2}\n",
    "$\n",
    "\n",
    "where $ \\mathbf{x} = (x_1, x_2, \\ldots, x_n) $.\n",
    "\n",
    "### Key Properties of the L2 Norm\n",
    "- **Euclidean Distance**: The L2 norm measures the Euclidean distance from the origin to the point represented by the vector in $ n $-dimensional space. It is the direct generalization of the Pythagorean theorem to multiple dimensions.\n",
    "- **Non-negativity**: $ \\|\\mathbf{x}\\|_2 \\geq 0 $, and $ \\|\\mathbf{x}\\|_2 = 0 $ if and only if $ \\mathbf{x} = 0 $.\n",
    "- **Triangle Inequality**: For any two vectors $ \\mathbf{u} $ and $ \\mathbf{v} $ in $ \\mathbb{R}^n $, the L2 norm satisfies the triangle inequality:\n",
    "  $\n",
    "  \\|\\mathbf{u} + \\mathbf{v}\\|_2 \\leq \\|\\mathbf{u}\\|_2 + \\|\\mathbf{v}\\|_2\n",
    "  $\n",
    "- **Scaling**: For any scalar $ a $ and vector $ \\mathbf{x} $, $ \\|a\\mathbf{x}\\|_2 = |a| \\|\\mathbf{x}\\|_2 $.\n",
    "\n",
    "### Applications\n",
    "- **Machine Learning**: The L2 norm is used in regularization techniques (like Ridge regression, or L2 regularization) to control the complexity of the model by penalizing the sum of the squares of the model parameters, thus helping to prevent overfitting.\n",
    "- **Statistics**: It is used to calculate the standard Euclidean distance between points in space, which is crucial for methods like K-means clustering and principal component analysis (PCA).\n",
    "- **Engineering**: In signal processing, the L2 norm (or energy norm) of a signal is used to measure its total energy.\n",
    "\n",
    "### Example Calculation in Julia\n",
    "Here’s a simple example of how to compute the L2 norm of a vector in Julia:"
   ]
  },
  {
   "cell_type": "code",
   "execution_count": 1,
   "id": "b9b5fd0e-1ae7-42a4-bbe7-e1662a587531",
   "metadata": {},
   "outputs": [
    {
     "name": "stdout",
     "output_type": "stream",
     "text": [
      "The L2 norm of the vector [3, 4] is: 5.0\n"
     ]
    }
   ],
   "source": [
    "using LinearAlgebra\n",
    "\n",
    "# Define a vector\n",
    "x = [3, 4]\n",
    "\n",
    "# Calculate the L2 norm\n",
    "norm_x = norm(x)  # This uses the L2 norm by default\n",
    "\n",
    "println(\"The L2 norm of the vector [3, 4] is: \", norm_x)"
   ]
  },
  {
   "cell_type": "markdown",
   "id": "8132431b-cfce-4c40-99da-1aa870953f30",
   "metadata": {},
   "source": [
    "This Julia code calculates the L2 norm of the vector $[3, 4]$, which should output 5, following the direct application of the Pythagorean theorem (as $3^2 + 4^2 = 9 + 16 = 25$ and $ \\sqrt{25} = 5 $). This is a basic and straightforward example demonstrating how to compute the Euclidean distance from the origin to the point $(3, 4)$ in a 2-dimensional space."
   ]
  },
  {
   "cell_type": "code",
   "execution_count": 2,
   "id": "60dd8fe8-91cb-4ae2-bc4c-81ce6cca846b",
   "metadata": {},
   "outputs": [
    {
     "data": {
      "text/plain": [
       "sum (generic function with 10 methods)"
      ]
     },
     "execution_count": 2,
     "metadata": {},
     "output_type": "execute_result"
    }
   ],
   "source": [
    "∑ = sum"
   ]
  },
  {
   "cell_type": "code",
   "execution_count": 3,
   "id": "c087c4f3-a601-48b7-89bb-c5c57c127fcc",
   "metadata": {},
   "outputs": [
    {
     "name": "stdout",
     "output_type": "stream",
     "text": [
      "The L2 norm of the vector [3, 4] is: 5.0\n"
     ]
    }
   ],
   "source": [
    "# Define a vector\n",
    "x = [3, 4]\n",
    "\n",
    "# Calculate the L2 norm manually\n",
    "norm_x = √( ∑([xᵢ^2 for xᵢ in x]) )\n",
    "\n",
    "println(\"The L2 norm of the vector [3, 4] is: \", norm_x)\n"
   ]
  },
  {
   "cell_type": "code",
   "execution_count": null,
   "id": "b0c6cbba-3e6c-4deb-8987-dd73793d1edd",
   "metadata": {},
   "outputs": [],
   "source": []
  }
 ],
 "metadata": {
  "kernelspec": {
   "display_name": "Julia 1.9.3",
   "language": "julia",
   "name": "julia-1.9"
  },
  "language_info": {
   "file_extension": ".jl",
   "mimetype": "application/julia",
   "name": "julia",
   "version": "1.10.2"
  }
 },
 "nbformat": 4,
 "nbformat_minor": 5
}
