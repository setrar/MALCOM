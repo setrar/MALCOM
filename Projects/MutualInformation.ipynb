{
 "cells": [
  {
   "cell_type": "code",
   "execution_count": 2,
   "id": "28600ffe-3325-4535-acd1-976761a27c4e",
   "metadata": {},
   "outputs": [
    {
     "data": {
      "text/plain": [
       "1.843175373209542"
      ]
     },
     "execution_count": 2,
     "metadata": {},
     "output_type": "execute_result"
    }
   ],
   "source": [
    "using CausalityTools\n",
    "using Distributions\n",
    "using Statistics\n",
    "\n",
    "n = 1000\n",
    "using CausalityTools\n",
    "x = randn(1000)\n",
    "y = rand(1000) .+ x\n",
    "mutualinfo(KSG1(k = 5), x, y)\n",
    "mutualinfo(GaussianMI(), x, y) # defaults to `MIShannon()`\n"
   ]
  },
  {
   "cell_type": "code",
   "execution_count": null,
   "id": "7a977955-fadc-46e6-b244-345d9d1da01b",
   "metadata": {},
   "outputs": [],
   "source": []
  }
 ],
 "metadata": {
  "kernelspec": {
   "display_name": "Julia 1.9.3",
   "language": "julia",
   "name": "julia-1.9"
  },
  "language_info": {
   "file_extension": ".jl",
   "mimetype": "application/julia",
   "name": "julia",
   "version": "1.10.4"
  }
 },
 "nbformat": 4,
 "nbformat_minor": 5
}
