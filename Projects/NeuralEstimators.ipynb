{
 "cells": [
  {
   "cell_type": "code",
   "execution_count": 1,
   "id": "3bbe696c-4523-4c82-85f4-23440eff6006",
   "metadata": {},
   "outputs": [
    {
     "ename": "LoadError",
     "evalue": "UndefVarError: `ParameterConfigurations` not defined",
     "output_type": "error",
     "traceback": [
      "UndefVarError: `ParameterConfigurations` not defined",
      "",
      "Stacktrace:",
      " [1] top-level scope",
      "   @ In[1]:1"
     ]
    }
   ],
   "source": [
    "struct Parameters{T} <: ParameterConfigurations\n",
    "\tθ::Matrix{T}\n",
    "\tL\n",
    "end"
   ]
  },
  {
   "cell_type": "markdown",
   "id": "5d976969-6d81-410e-923f-a245d0087896",
   "metadata": {},
   "source": [
    "# References\n",
    "\n",
    "```\n",
    "using Pkg; Pkg.add(url = \"https://github.com/msainsburydale/NeuralEstimators.jl\")\n",
    "```"
   ]
  }
 ],
 "metadata": {
  "kernelspec": {
   "display_name": "Julia 1.10.4",
   "language": "julia",
   "name": "julia-1.10"
  },
  "language_info": {
   "file_extension": ".jl",
   "mimetype": "application/julia",
   "name": "julia",
   "version": "1.10.4"
  }
 },
 "nbformat": 4,
 "nbformat_minor": 5
}
