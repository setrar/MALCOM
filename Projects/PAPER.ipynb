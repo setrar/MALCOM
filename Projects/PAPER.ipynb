{
 "cells": [
  {
   "cell_type": "markdown",
   "id": "1ff01be6-0bd1-4909-9244-c8dda1c5deab",
   "metadata": {},
   "source": [
    "# Neural Estimation and Optimization of Directed Information Over Continuous Spaces\n",
    "\n",
    "Dor Tsur , Student Member, IEEE, Ziv Aharoni , Student Member, IEEE, Ziv Goldfeld , Member, IEEE, and Haim Permuter , Senior Member, IEEE\n",
    "\n",
    "##### ___Abstract___ —This work develops a new method for estimating and optimizing the directed information rate between two jointly stationary and ergodic stochastic processes. Building upon recent advances in machine learning, we propose a recurrent neural network (RNN)-based estimator which is optimized via gradient ascent over the RNN parameters. The estimator does not require prior knowledge of the underlying joint/marginal distributions and can be easily optimized over continuous input processes realized by a deep generative model. We prove consistency of the proposed estimation and optimization methods and combine them to obtain end-to-end performance guarantees. Applications for channel capacity estimation of continuous channels with memory are explored, and empirical results demonstrating the scalability and accuracy of our method are provided. When the channel is memoryless, we investigate the mapping learned by the optimized input generator.\n",
    "\n",
    "##### Index Terms—Channel capacity, directed information, neural estimation, recurrent neural networks."
   ]
  },
  {
   "cell_type": "markdown",
   "id": "2cfe7707-2381-4410-b7b2-481019331dea",
   "metadata": {},
   "source": [
    "# References\n",
    "\n",
    "- [ ] [Implementation of the DINE estimator and NDT optimizer.](https://github.com/DorTsur/dine_ndt)"
   ]
  },
  {
   "cell_type": "code",
   "execution_count": null,
   "id": "43c02373-4525-439b-8d7f-d5172fa57e75",
   "metadata": {},
   "outputs": [],
   "source": []
  }
 ],
 "metadata": {
  "kernelspec": {
   "display_name": "Julia 1.9.3",
   "language": "julia",
   "name": "julia-1.9"
  },
  "language_info": {
   "file_extension": ".jl",
   "mimetype": "application/julia",
   "name": "julia",
   "version": "1.10.4"
  }
 },
 "nbformat": 4,
 "nbformat_minor": 5
}
