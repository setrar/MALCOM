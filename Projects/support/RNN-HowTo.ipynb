{
 "cells": [
  {
   "cell_type": "code",
   "execution_count": 1,
   "id": "4f51818d-5bdb-42c5-9c18-b9e1627b25cd",
   "metadata": {},
   "outputs": [],
   "source": [
    "using Flux"
   ]
  },
  {
   "cell_type": "code",
   "execution_count": 2,
   "id": "87d41e60-a990-4b12-9316-8b6f7b386995",
   "metadata": {},
   "outputs": [
    {
     "data": {
      "text/plain": [
       "Recur(\n",
       "  RNNCell(3 => 5, tanh),                \u001b[90m# 50 parameters\u001b[39m\n",
       ") \u001b[90m        # Total: 4 trainable arrays, \u001b[39m50 parameters,\n",
       "\u001b[90m          # plus 1 non-trainable, 5 parameters, summarysize \u001b[39m432 bytes."
      ]
     },
     "execution_count": 2,
     "metadata": {},
     "output_type": "execute_result"
    }
   ],
   "source": [
    "r = RNN(3 => 5)"
   ]
  },
  {
   "cell_type": "code",
   "execution_count": 3,
   "id": "25173d3d-ae5e-4368-97f1-92c24c539127",
   "metadata": {},
   "outputs": [
    {
     "data": {
      "text/plain": [
       "(5,)"
      ]
     },
     "execution_count": 3,
     "metadata": {},
     "output_type": "execute_result"
    }
   ],
   "source": [
    "r(rand(Float32, 3)) |> size"
   ]
  },
  {
   "cell_type": "code",
   "execution_count": 4,
   "id": "c333a56a-6764-4680-943c-1bf103538a19",
   "metadata": {},
   "outputs": [],
   "source": [
    "Flux.reset!(r);"
   ]
  },
  {
   "cell_type": "code",
   "execution_count": 5,
   "id": "7bfa8f22-0b55-4ce0-a5fd-af12b72ee544",
   "metadata": {},
   "outputs": [
    {
     "data": {
      "text/plain": [
       "(5, 10)"
      ]
     },
     "execution_count": 5,
     "metadata": {},
     "output_type": "execute_result"
    }
   ],
   "source": [
    "r(rand(Float32, 3, 10)) |> size # batch size of 10"
   ]
  },
  {
   "cell_type": "markdown",
   "id": "3b065947-d47c-495c-b32b-9c4e731f5ad4",
   "metadata": {},
   "source": [
    "# References\n",
    "\n",
    "- [ ] [Flux.RNN](https://fluxml.ai/Flux.jl/stable/reference/models/layers/#Flux.RNN)"
   ]
  },
  {
   "cell_type": "code",
   "execution_count": null,
   "id": "4264f849-25ef-4d0c-bc3c-a57e5f47c970",
   "metadata": {},
   "outputs": [],
   "source": []
  }
 ],
 "metadata": {
  "kernelspec": {
   "display_name": "Julia 1.9.3",
   "language": "julia",
   "name": "julia-1.9"
  },
  "language_info": {
   "file_extension": ".jl",
   "mimetype": "application/julia",
   "name": "julia",
   "version": "1.10.4"
  }
 },
 "nbformat": 4,
 "nbformat_minor": 5
}
