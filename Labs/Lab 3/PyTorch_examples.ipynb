{
 "cells": [
  {
   "cell_type": "markdown",
   "id": "296814d5-fa88-4981-b344-cd48dedc775c",
   "metadata": {},
   "source": [
    "# PyTorch"
   ]
  },
  {
   "cell_type": "markdown",
   "id": "2bc2f859-e52a-4ec9-b225-da023831d817",
   "metadata": {},
   "source": [
    "## Example 1\n",
    "\n",
    "---"
   ]
  },
  {
   "cell_type": "code",
   "execution_count": 1,
   "id": "6550d10c-0d8f-4ef2-89ce-1e69225759ba",
   "metadata": {},
   "outputs": [
    {
     "name": "stdout",
     "output_type": "stream",
     "text": [
      "True\n",
      "True\n"
     ]
    }
   ],
   "source": [
    "import torch\n",
    "\n",
    "print(torch.backends.mps.is_available()) #the MacOS is higher than 12.3+\n",
    "print(torch.backends.mps.is_built()) #MPS is activated"
   ]
  },
  {
   "cell_type": "code",
   "execution_count": 2,
   "id": "d1a45dc3-1c39-4b01-9728-689f0e602751",
   "metadata": {},
   "outputs": [],
   "source": [
    "dtype = torch.float\n",
    "device = torch.device(\"mps\")\n",
    "# device = torch.device(\"cpu\")  # Execute all calculations on the CPU\n",
    "# device = torch.device(\"cuda:0\")  # Executes all calculations on the GPU"
   ]
  },
  {
   "cell_type": "code",
   "execution_count": 3,
   "id": "c9eec448-41c7-4c0f-b654-eebc95f5c0dd",
   "metadata": {},
   "outputs": [
    {
     "name": "stdout",
     "output_type": "stream",
     "text": [
      "tensor([[-2.1669,  0.8264, -0.0069],\n",
      "        [-1.9832,  1.3697,  1.3889]], device='mps:0')\n"
     ]
    }
   ],
   "source": [
    "# Create a tensor and fill it with random numbers\n",
    "a = torch.randn(2, 3, device=device, dtype=dtype)\n",
    "print(a)\n",
    "# Output: tensor([[-1.1884,  0.8498, -1.7129],\n",
    "#                  [-0.8816,  0.1944,  0.5847]])"
   ]
  },
  {
   "cell_type": "code",
   "execution_count": 4,
   "id": "52820026-a6e5-4553-99a7-2528e52703d6",
   "metadata": {},
   "outputs": [
    {
     "name": "stdout",
     "output_type": "stream",
     "text": [
      "tensor([[ 2.1814,  0.6680, -1.2371],\n",
      "        [-0.8202,  0.3957,  0.3842]], device='mps:0')\n"
     ]
    }
   ],
   "source": [
    "b = torch.randn(2, 3, device=device, dtype=dtype)\n",
    "print(b)\n",
    "# Output: tensor([[ 0.7178, -0.8453, -1.3403],\n",
    "#                  [ 1.3262,  1.1512, -1.7070]])"
   ]
  },
  {
   "cell_type": "code",
   "execution_count": 5,
   "id": "e2270434-2733-4060-bc77-6f7ba957e8e2",
   "metadata": {},
   "outputs": [
    {
     "name": "stdout",
     "output_type": "stream",
     "text": [
      "tensor([[-4.7268,  0.5520,  0.0085],\n",
      "        [ 1.6266,  0.5420,  0.5337]], device='mps:0')\n"
     ]
    }
   ],
   "source": [
    "print(a * b)\n",
    "# Output: tensor([[-0.8530, -0.7183,  2.58],\n",
    "#                  [-1.1692,  0.2238, -0.9981]])"
   ]
  },
  {
   "cell_type": "code",
   "execution_count": 6,
   "id": "8cdf199c-72cc-4fc1-b7b6-ef242a6fde60",
   "metadata": {},
   "outputs": [
    {
     "name": "stdout",
     "output_type": "stream",
     "text": [
      "tensor(-0.5719, device='mps:0')\n"
     ]
    }
   ],
   "source": [
    "print(a.sum()) \n",
    "# Output: tensor(-2.1540)"
   ]
  },
  {
   "cell_type": "code",
   "execution_count": 7,
   "id": "617cf7b2-8ea6-4646-8243-5c51981ec54e",
   "metadata": {},
   "outputs": [
    {
     "name": "stdout",
     "output_type": "stream",
     "text": [
      "tensor(1.3889, device='mps:0')\n"
     ]
    }
   ],
   "source": [
    "print(a[1,2]) # Output of the element in the third column of the second row (zero based)\n",
    "# Output: tensor(0.5847)"
   ]
  },
  {
   "cell_type": "code",
   "execution_count": 8,
   "id": "a7b5e33f-7785-4f88-8dcc-c00f69139f9c",
   "metadata": {},
   "outputs": [
    {
     "name": "stdout",
     "output_type": "stream",
     "text": [
      "tensor(1.3889, device='mps:0')\n"
     ]
    }
   ],
   "source": [
    "print(a.max())\n",
    "# Output: tensor(0.8498)"
   ]
  },
  {
   "cell_type": "markdown",
   "id": "d31a2699-676f-4d9c-baf3-1cd0b07443e1",
   "metadata": {},
   "source": [
    "## Example II\n",
    "\n",
    "___"
   ]
  },
  {
   "cell_type": "code",
   "execution_count": 9,
   "id": "cf32d15c-67bf-469e-9e5e-a64cb79534ed",
   "metadata": {},
   "outputs": [],
   "source": [
    "import torch\n",
    "from torch import nn # Import the nn sub-module from PyTorch\n",
    "\n",
    "class NeuralNetwork(nn.Module):  # Neural networks are defined as classes\n",
    "    def __init__(self):  # Layers and variables are defined in the __init__ method\n",
    "        super().__init__()  # Must be in every network.\n",
    "        self.flatten = nn.Flatten()   # Construct a flattening layer.\n",
    "        self.linear_relu_stack = nn.Sequential(  # Construct a stack of layers.\n",
    "            nn.Linear(28*28, 512),  # Linear Layers have an input and output shape\n",
    "            nn.ReLU(),  # ReLU is one of many activation functions provided by nn\n",
    "            nn.Linear(512, 512),\n",
    "            nn.ReLU(),\n",
    "            nn.Linear(512, 10), \n",
    "        )\n",
    "\n",
    "    def forward(self, x):  # This function defines the forward pass.\n",
    "        x = self.flatten(x)\n",
    "        logits = self.linear_relu_stack(x)\n",
    "        return logits"
   ]
  },
  {
   "cell_type": "code",
   "execution_count": 10,
   "id": "55921e13-48f4-4886-bc57-6f4cebd4f716",
   "metadata": {},
   "outputs": [
    {
     "name": "stdout",
     "output_type": "stream",
     "text": [
      "Batch 0, Loss: 2.3177261352539062\n"
     ]
    }
   ],
   "source": [
    "from torch.utils.data import DataLoader, TensorDataset\n",
    "import torch.optim as optim\n",
    "\n",
    "# Create a dummy dataset\n",
    "batch_size = 64\n",
    "dummy_data = torch.randn(batch_size, 28, 28)  # 64 samples of 28x28 images\n",
    "dummy_labels = torch.randint(0, 10, (batch_size,))  # 64 random labels in the range [0, 9]\n",
    "\n",
    "# Create a DataLoader\n",
    "dataset = TensorDataset(dummy_data, dummy_labels)\n",
    "dataloader = DataLoader(dataset, batch_size=batch_size, shuffle=True)\n",
    "\n",
    "# Instantiate the model, loss function, and optimizer\n",
    "model = NeuralNetwork()\n",
    "criterion = nn.CrossEntropyLoss()\n",
    "optimizer = optim.SGD(model.parameters(), lr=0.01)\n",
    "\n",
    "# Training loop (for one epoch)\n",
    "for batch, (X, y) in enumerate(dataloader):\n",
    "    # Forward pass: compute predicted y by passing X to the model\n",
    "    pred = model(X)\n",
    "    \n",
    "    # Compute and print loss\n",
    "    loss = criterion(pred, y)\n",
    "    print(f\"Batch {batch}, Loss: {loss.item()}\")\n",
    "    \n",
    "    # Zero gradients, perform a backward pass, and update the weights\n",
    "    optimizer.zero_grad()\n",
    "    loss.backward()\n",
    "    optimizer.step()\n"
   ]
  },
  {
   "cell_type": "markdown",
   "id": "5fa894fe-57f1-4521-a160-f47758f2d1df",
   "metadata": {},
   "source": [
    "# References\n",
    "\n",
    "- [ ] [WikiPedia: PyTorch](https://en.wikipedia.org/wiki/PyTorch)"
   ]
  },
  {
   "cell_type": "code",
   "execution_count": null,
   "id": "9844ab43-bde8-4ff3-af91-b0208d606ff5",
   "metadata": {},
   "outputs": [],
   "source": []
  }
 ],
 "metadata": {
  "kernelspec": {
   "display_name": "Python 3 (ipykernel)",
   "language": "python",
   "name": "python3"
  },
  "language_info": {
   "codemirror_mode": {
    "name": "ipython",
    "version": 3
   },
   "file_extension": ".py",
   "mimetype": "text/x-python",
   "name": "python",
   "nbconvert_exporter": "python",
   "pygments_lexer": "ipython3",
   "version": "3.10.13"
  }
 },
 "nbformat": 4,
 "nbformat_minor": 5
}
