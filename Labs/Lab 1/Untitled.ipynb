{
 "cells": [
  {
   "cell_type": "code",
   "execution_count": 13,
   "id": "ca16d751-6392-4029-866f-d708c6a74a55",
   "metadata": {},
   "outputs": [],
   "source": [
    "include(\"malcom/data_utils.jl\");"
   ]
  },
  {
   "cell_type": "code",
   "execution_count": 14,
   "id": "7ef86f47-8cf5-4d78-bb96-58d7c121f707",
   "metadata": {},
   "outputs": [],
   "source": [
    "using Statistics"
   ]
  },
  {
   "cell_type": "code",
   "execution_count": 15,
   "id": "79f87b13-ea2c-45a1-bed9-1ab9b323d628",
   "metadata": {},
   "outputs": [
    {
     "ename": "LoadError",
     "evalue": "No applicable_loaders found for UNKNOWN",
     "output_type": "error",
     "traceback": [
      "No applicable_loaders found for UNKNOWN",
      "",
      "Stacktrace:",
      " [1] error(s::String)",
      "   @ Base ./error.jl:35",
      " [2] applicable_loaders",
      "   @ ~/.julia/packages/FileIO/jMf68/src/loadsave.jl:11 [inlined]",
      " [3] load(::String; options::@Kwargs{format::String})",
      "   @ FileIO ~/.julia/packages/FileIO/jMf68/src/loadsave.jl:112",
      " [4] load",
      "   @ ~/.julia/packages/FileIO/jMf68/src/loadsave.jl:109 [inlined]",
      " [5] load_CIFAR_batch(filename::String)",
      "   @ Main ~/Developer/MALCOM/Labs/Lab 1/malcom/data_utils.jl:8",
      " [6] load_CIFAR10(ROOT::String)",
      "   @ Main ~/Developer/MALCOM/Labs/Lab 1/malcom/data_utils.jl:20",
      " [7] top-level scope",
      "   @ In[15]:6"
     ]
    }
   ],
   "source": [
    "# Assuming cifar10_dir is the directory where your CIFAR-10 data is stored,\n",
    "# and the data is already in a Julia-friendly format\n",
    "cifar10_dir = \"malcom/datasets/cifar-10-batches-py\"\n",
    "\n",
    "# Load the CIFAR-10 data\n",
    "X_train, Y_train, X_test, Y_test = load_CIFAR10(cifar10_dir)\n",
    "\n",
    "# Output some basic information about the loaded data\n",
    "println(\"Training data shape: \", size(X_train))\n",
    "println(\"Training labels shape: \", size(Y_train))\n",
    "println(\"Test data shape: \", size(X_test))\n",
    "println(\"Test labels shape: \", size(Y_test))"
   ]
  },
  {
   "cell_type": "code",
   "execution_count": 8,
   "id": "ffae33b6-ac1c-416b-ab24-7adea9bbb51f",
   "metadata": {},
   "outputs": [
    {
     "data": {
      "text/plain": [
       "get_CIFAR10_data (generic function with 4 methods)"
      ]
     },
     "execution_count": 8,
     "metadata": {},
     "output_type": "execute_result"
    }
   ],
   "source": [
    "function get_CIFAR10_data(num_training=49000, num_validation=1000, num_test=1000)\n",
    "    \"\"\"\n",
    "    This will allow us to load the CIFAR-10 dataset and perform preprocessing to prepare\n",
    "    it for the two-layer neural net classifier.\n",
    "    \"\"\"\n",
    "    # Load the raw CIFAR-10 data\n",
    "    cifar10_dir = \"malcom/datasets/cifar-10-batches-py\"\n",
    "    \n",
    "    # Assuming load_CIFAR10 is a function that loads CIFAR-10 data\n",
    "    X_train, y_train, X_test, y_test = load_CIFAR10(cifar10_dir)\n",
    "    \n",
    "    # Subsample the data\n",
    "    X_val = X_train[num_training+1:num_training+num_validation, :]\n",
    "    y_val = y_train[num_training+1:num_training+num_validation]\n",
    "    X_train = X_train[1:num_training, :]\n",
    "    y_train = y_train[1:num_training]\n",
    "    X_test = X_test[1:num_test, :]\n",
    "    y_test = y_test[1:num_test]\n",
    "\n",
    "    # Normalize the data: subtract the mean image\n",
    "    mean_image = mean(X_train, dims=1)\n",
    "    X_train .-= mean_image\n",
    "    X_val .-= mean_image\n",
    "    X_test .-= mean_image\n",
    "\n",
    "    # Reshape data to rows\n",
    "    X_train = reshape(X_train, num_training, :)\n",
    "    X_val = reshape(X_val, num_validation, :)\n",
    "    X_test = reshape(X_test, num_test, :)\n",
    "\n",
    "    return X_train, y_train, X_val, y_val, X_test, y_test\n",
    "end"
   ]
  },
  {
   "cell_type": "code",
   "execution_count": 3,
   "id": "ed56d18f-c3c7-4b7b-9090-076b7c7150a7",
   "metadata": {},
   "outputs": [
    {
     "ename": "LoadError",
     "evalue": "UndefVarError: `load_CIFAR10` not defined",
     "output_type": "error",
     "traceback": [
      "UndefVarError: `load_CIFAR10` not defined",
      "",
      "Stacktrace:",
      " [1] get_CIFAR10_data(num_training::Int64, num_validation::Int64, num_test::Int64)",
      "   @ Main ./In[2]:10",
      " [2] get_CIFAR10_data()",
      "   @ Main ./In[2]:2",
      " [3] top-level scope",
      "   @ In[3]:2"
     ]
    }
   ],
   "source": [
    "# Invoke the above function to get our data.\n",
    "X_train, y_train, X_val, y_val, X_test, y_test = get_CIFAR10_data()\n",
    "println(\"Train data shape: \", size(X_train))\n",
    "println(\"Train labels shape: \", size(y_train))\n",
    "println(\"Validation data shape: \", size(X_val))\n",
    "println(\"Validation labels shape: \", size(y_val))\n",
    "println(\"Test data shape: \", size(X_test))\n",
    "println(\"Test labels shape: \", size(y_test))\n"
   ]
  },
  {
   "cell_type": "code",
   "execution_count": null,
   "id": "8f67e549-dcf5-4956-83b9-9147ee9187f8",
   "metadata": {},
   "outputs": [],
   "source": []
  }
 ],
 "metadata": {
  "kernelspec": {
   "display_name": "Julia 1.9.3",
   "language": "julia",
   "name": "julia-1.9"
  },
  "language_info": {
   "file_extension": ".jl",
   "mimetype": "application/julia",
   "name": "julia",
   "version": "1.10.2"
  }
 },
 "nbformat": 4,
 "nbformat_minor": 5
}
